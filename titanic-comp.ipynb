{
 "cells": [
  {
   "cell_type": "code",
   "execution_count": 1,
   "metadata": {
    "_cell_guid": "b1076dfc-b9ad-4769-8c92-a6c4dae69d19",
    "_uuid": "8f2839f25d086af736a60e9eeb907d3b93b6e0e5",
    "execution": {
     "iopub.execute_input": "2021-02-01T20:51:22.040715Z",
     "iopub.status.busy": "2021-02-01T20:51:22.039745Z",
     "iopub.status.idle": "2021-02-01T20:51:22.046796Z",
     "shell.execute_reply": "2021-02-01T20:51:22.045701Z"
    },
    "papermill": {
     "duration": 0.04549,
     "end_time": "2021-02-01T20:51:22.047092",
     "exception": false,
     "start_time": "2021-02-01T20:51:22.001602",
     "status": "completed"
    },
    "tags": []
   },
   "outputs": [
    {
     "name": "stdout",
     "output_type": "stream",
     "text": [
      "/kaggle/input/titanic/train.csv\n",
      "/kaggle/input/titanic/test.csv\n",
      "/kaggle/input/titanic/gender_submission.csv\n"
     ]
    }
   ],
   "source": [
    "# This Python 3 environment comes with many helpful analytics libraries installed\n",
    "# It is defined by the kaggle/python Docker image: https://github.com/kaggle/docker-python\n",
    "# For example, here's several helpful packages to load\n",
    "\n",
    "import numpy as np # linear algebra\n",
    "import pandas as pd # data processing, CSV file I/O (e.g. pd.read_csv)\n",
    "\n",
    "# Input data files are available in the read-only \"../input/\" directory\n",
    "# For example, running this (by clicking run or pressing Shift+Enter) will list all files under the input directory\n",
    "\n",
    "import os\n",
    "for dirname, _, filenames in os.walk('/kaggle/input'):\n",
    "    for filename in filenames:\n",
    "        print(os.path.join(dirname, filename))\n",
    "\n",
    "# You can write up to 20GB to the current directory (/kaggle/working/) that gets preserved as output when you create a version using \"Save & Run All\" \n",
    "# You can also write temporary files to /kaggle/temp/, but they won't be saved outside of the current session"
   ]
  },
  {
   "cell_type": "code",
   "execution_count": 2,
   "metadata": {
    "execution": {
     "iopub.execute_input": "2021-02-01T20:51:22.116336Z",
     "iopub.status.busy": "2021-02-01T20:51:22.115493Z",
     "iopub.status.idle": "2021-02-01T20:51:23.228160Z",
     "shell.execute_reply": "2021-02-01T20:51:23.227482Z"
    },
    "papermill": {
     "duration": 1.147773,
     "end_time": "2021-02-01T20:51:23.228369",
     "exception": false,
     "start_time": "2021-02-01T20:51:22.080596",
     "status": "completed"
    },
    "tags": []
   },
   "outputs": [],
   "source": [
    "import matplotlib.pyplot as plt\n",
    "import missingno\n",
    "import seaborn as sns"
   ]
  },
  {
   "cell_type": "code",
   "execution_count": 3,
   "metadata": {
    "execution": {
     "iopub.execute_input": "2021-02-01T20:51:23.306240Z",
     "iopub.status.busy": "2021-02-01T20:51:23.305455Z",
     "iopub.status.idle": "2021-02-01T20:51:23.386511Z",
     "shell.execute_reply": "2021-02-01T20:51:23.385752Z"
    },
    "papermill": {
     "duration": 0.122413,
     "end_time": "2021-02-01T20:51:23.386676",
     "exception": false,
     "start_time": "2021-02-01T20:51:23.264263",
     "status": "completed"
    },
    "tags": []
   },
   "outputs": [
    {
     "data": {
      "text/html": [
       "<div>\n",
       "<style scoped>\n",
       "    .dataframe tbody tr th:only-of-type {\n",
       "        vertical-align: middle;\n",
       "    }\n",
       "\n",
       "    .dataframe tbody tr th {\n",
       "        vertical-align: top;\n",
       "    }\n",
       "\n",
       "    .dataframe thead th {\n",
       "        text-align: right;\n",
       "    }\n",
       "</style>\n",
       "<table border=\"1\" class=\"dataframe\">\n",
       "  <thead>\n",
       "    <tr style=\"text-align: right;\">\n",
       "      <th></th>\n",
       "      <th>Survived</th>\n",
       "      <th>Pclass</th>\n",
       "      <th>Name</th>\n",
       "      <th>Sex</th>\n",
       "      <th>Age</th>\n",
       "      <th>SibSp</th>\n",
       "      <th>Parch</th>\n",
       "      <th>Ticket</th>\n",
       "      <th>Fare</th>\n",
       "      <th>Cabin</th>\n",
       "      <th>Embarked</th>\n",
       "    </tr>\n",
       "    <tr>\n",
       "      <th>PassengerId</th>\n",
       "      <th></th>\n",
       "      <th></th>\n",
       "      <th></th>\n",
       "      <th></th>\n",
       "      <th></th>\n",
       "      <th></th>\n",
       "      <th></th>\n",
       "      <th></th>\n",
       "      <th></th>\n",
       "      <th></th>\n",
       "      <th></th>\n",
       "    </tr>\n",
       "  </thead>\n",
       "  <tbody>\n",
       "    <tr>\n",
       "      <th>1</th>\n",
       "      <td>0</td>\n",
       "      <td>3</td>\n",
       "      <td>Braund, Mr. Owen Harris</td>\n",
       "      <td>male</td>\n",
       "      <td>22.0</td>\n",
       "      <td>1</td>\n",
       "      <td>0</td>\n",
       "      <td>A/5 21171</td>\n",
       "      <td>7.2500</td>\n",
       "      <td>NaN</td>\n",
       "      <td>S</td>\n",
       "    </tr>\n",
       "    <tr>\n",
       "      <th>2</th>\n",
       "      <td>1</td>\n",
       "      <td>1</td>\n",
       "      <td>Cumings, Mrs. John Bradley (Florence Briggs Th...</td>\n",
       "      <td>female</td>\n",
       "      <td>38.0</td>\n",
       "      <td>1</td>\n",
       "      <td>0</td>\n",
       "      <td>PC 17599</td>\n",
       "      <td>71.2833</td>\n",
       "      <td>C85</td>\n",
       "      <td>C</td>\n",
       "    </tr>\n",
       "    <tr>\n",
       "      <th>3</th>\n",
       "      <td>1</td>\n",
       "      <td>3</td>\n",
       "      <td>Heikkinen, Miss. Laina</td>\n",
       "      <td>female</td>\n",
       "      <td>26.0</td>\n",
       "      <td>0</td>\n",
       "      <td>0</td>\n",
       "      <td>STON/O2. 3101282</td>\n",
       "      <td>7.9250</td>\n",
       "      <td>NaN</td>\n",
       "      <td>S</td>\n",
       "    </tr>\n",
       "    <tr>\n",
       "      <th>4</th>\n",
       "      <td>1</td>\n",
       "      <td>1</td>\n",
       "      <td>Futrelle, Mrs. Jacques Heath (Lily May Peel)</td>\n",
       "      <td>female</td>\n",
       "      <td>35.0</td>\n",
       "      <td>1</td>\n",
       "      <td>0</td>\n",
       "      <td>113803</td>\n",
       "      <td>53.1000</td>\n",
       "      <td>C123</td>\n",
       "      <td>S</td>\n",
       "    </tr>\n",
       "    <tr>\n",
       "      <th>5</th>\n",
       "      <td>0</td>\n",
       "      <td>3</td>\n",
       "      <td>Allen, Mr. William Henry</td>\n",
       "      <td>male</td>\n",
       "      <td>35.0</td>\n",
       "      <td>0</td>\n",
       "      <td>0</td>\n",
       "      <td>373450</td>\n",
       "      <td>8.0500</td>\n",
       "      <td>NaN</td>\n",
       "      <td>S</td>\n",
       "    </tr>\n",
       "  </tbody>\n",
       "</table>\n",
       "</div>"
      ],
      "text/plain": [
       "             Survived  Pclass  \\\n",
       "PassengerId                     \n",
       "1                   0       3   \n",
       "2                   1       1   \n",
       "3                   1       3   \n",
       "4                   1       1   \n",
       "5                   0       3   \n",
       "\n",
       "                                                          Name     Sex   Age  \\\n",
       "PassengerId                                                                    \n",
       "1                                      Braund, Mr. Owen Harris    male  22.0   \n",
       "2            Cumings, Mrs. John Bradley (Florence Briggs Th...  female  38.0   \n",
       "3                                       Heikkinen, Miss. Laina  female  26.0   \n",
       "4                 Futrelle, Mrs. Jacques Heath (Lily May Peel)  female  35.0   \n",
       "5                                     Allen, Mr. William Henry    male  35.0   \n",
       "\n",
       "             SibSp  Parch            Ticket     Fare Cabin Embarked  \n",
       "PassengerId                                                          \n",
       "1                1      0         A/5 21171   7.2500   NaN        S  \n",
       "2                1      0          PC 17599  71.2833   C85        C  \n",
       "3                0      0  STON/O2. 3101282   7.9250   NaN        S  \n",
       "4                1      0            113803  53.1000  C123        S  \n",
       "5                0      0            373450   8.0500   NaN        S  "
      ]
     },
     "execution_count": 3,
     "metadata": {},
     "output_type": "execute_result"
    }
   ],
   "source": [
    "train_data = pd.read_csv('/kaggle/input/titanic/train.csv',index_col=\"PassengerId\")\n",
    "test_data= pd.read_csv('/kaggle/input/titanic/test.csv',index_col=\"PassengerId\")\n",
    "test_dataY= pd.read_csv('/kaggle/input/titanic/gender_submission.csv',index_col=\"PassengerId\")\n",
    "\n",
    "df_train = train_data.copy()\n",
    "df_test  = test_data.copy()\n",
    "df_testY  = test_dataY.copy()\n",
    "df_train.head()"
   ]
  },
  {
   "cell_type": "code",
   "execution_count": 4,
   "metadata": {
    "execution": {
     "iopub.execute_input": "2021-02-01T20:51:23.456504Z",
     "iopub.status.busy": "2021-02-01T20:51:23.455455Z",
     "iopub.status.idle": "2021-02-01T20:51:23.461995Z",
     "shell.execute_reply": "2021-02-01T20:51:23.461371Z"
    },
    "papermill": {
     "duration": 0.043833,
     "end_time": "2021-02-01T20:51:23.462182",
     "exception": false,
     "start_time": "2021-02-01T20:51:23.418349",
     "status": "completed"
    },
    "tags": []
   },
   "outputs": [
    {
     "name": "stdout",
     "output_type": "stream",
     "text": [
      "Train Data Shape:  (891, 11) \n",
      "Test DataX Shape:  (418, 10) \n",
      "Test DataY:  (418, 1)\n"
     ]
    }
   ],
   "source": [
    "print(\"Train Data Shape: \",df_train.shape, \n",
    "      \"\\nTest DataX Shape: \",df_test.shape,\n",
    "      \"\\nTest DataY: \",df_testY.shape)"
   ]
  },
  {
   "cell_type": "code",
   "execution_count": 5,
   "metadata": {
    "execution": {
     "iopub.execute_input": "2021-02-01T20:51:23.535033Z",
     "iopub.status.busy": "2021-02-01T20:51:23.533873Z",
     "iopub.status.idle": "2021-02-01T20:51:23.539315Z",
     "shell.execute_reply": "2021-02-01T20:51:23.538616Z"
    },
    "papermill": {
     "duration": 0.044792,
     "end_time": "2021-02-01T20:51:23.539499",
     "exception": false,
     "start_time": "2021-02-01T20:51:23.494707",
     "status": "completed"
    },
    "tags": []
   },
   "outputs": [
    {
     "data": {
      "text/plain": [
       "Survived      int64\n",
       "Pclass        int64\n",
       "Name         object\n",
       "Sex          object\n",
       "Age         float64\n",
       "SibSp         int64\n",
       "Parch         int64\n",
       "Ticket       object\n",
       "Fare        float64\n",
       "Cabin        object\n",
       "Embarked     object\n",
       "dtype: object"
      ]
     },
     "execution_count": 5,
     "metadata": {},
     "output_type": "execute_result"
    }
   ],
   "source": [
    "df_train.dtypes\n"
   ]
  },
  {
   "cell_type": "code",
   "execution_count": 6,
   "metadata": {
    "execution": {
     "iopub.execute_input": "2021-02-01T20:51:23.615839Z",
     "iopub.status.busy": "2021-02-01T20:51:23.610954Z",
     "iopub.status.idle": "2021-02-01T20:51:23.648753Z",
     "shell.execute_reply": "2021-02-01T20:51:23.647893Z"
    },
    "papermill": {
     "duration": 0.076049,
     "end_time": "2021-02-01T20:51:23.648955",
     "exception": false,
     "start_time": "2021-02-01T20:51:23.572906",
     "status": "completed"
    },
    "tags": []
   },
   "outputs": [
    {
     "data": {
      "text/html": [
       "<div>\n",
       "<style scoped>\n",
       "    .dataframe tbody tr th:only-of-type {\n",
       "        vertical-align: middle;\n",
       "    }\n",
       "\n",
       "    .dataframe tbody tr th {\n",
       "        vertical-align: top;\n",
       "    }\n",
       "\n",
       "    .dataframe thead th {\n",
       "        text-align: right;\n",
       "    }\n",
       "</style>\n",
       "<table border=\"1\" class=\"dataframe\">\n",
       "  <thead>\n",
       "    <tr style=\"text-align: right;\">\n",
       "      <th></th>\n",
       "      <th>Survived</th>\n",
       "      <th>Pclass</th>\n",
       "      <th>Age</th>\n",
       "      <th>SibSp</th>\n",
       "      <th>Parch</th>\n",
       "      <th>Fare</th>\n",
       "    </tr>\n",
       "  </thead>\n",
       "  <tbody>\n",
       "    <tr>\n",
       "      <th>count</th>\n",
       "      <td>891.000000</td>\n",
       "      <td>891.000000</td>\n",
       "      <td>714.000000</td>\n",
       "      <td>891.000000</td>\n",
       "      <td>891.000000</td>\n",
       "      <td>891.000000</td>\n",
       "    </tr>\n",
       "    <tr>\n",
       "      <th>mean</th>\n",
       "      <td>0.383838</td>\n",
       "      <td>2.308642</td>\n",
       "      <td>29.699118</td>\n",
       "      <td>0.523008</td>\n",
       "      <td>0.381594</td>\n",
       "      <td>32.204208</td>\n",
       "    </tr>\n",
       "    <tr>\n",
       "      <th>std</th>\n",
       "      <td>0.486592</td>\n",
       "      <td>0.836071</td>\n",
       "      <td>14.526497</td>\n",
       "      <td>1.102743</td>\n",
       "      <td>0.806057</td>\n",
       "      <td>49.693429</td>\n",
       "    </tr>\n",
       "    <tr>\n",
       "      <th>min</th>\n",
       "      <td>0.000000</td>\n",
       "      <td>1.000000</td>\n",
       "      <td>0.420000</td>\n",
       "      <td>0.000000</td>\n",
       "      <td>0.000000</td>\n",
       "      <td>0.000000</td>\n",
       "    </tr>\n",
       "    <tr>\n",
       "      <th>25%</th>\n",
       "      <td>0.000000</td>\n",
       "      <td>2.000000</td>\n",
       "      <td>20.125000</td>\n",
       "      <td>0.000000</td>\n",
       "      <td>0.000000</td>\n",
       "      <td>7.910400</td>\n",
       "    </tr>\n",
       "    <tr>\n",
       "      <th>50%</th>\n",
       "      <td>0.000000</td>\n",
       "      <td>3.000000</td>\n",
       "      <td>28.000000</td>\n",
       "      <td>0.000000</td>\n",
       "      <td>0.000000</td>\n",
       "      <td>14.454200</td>\n",
       "    </tr>\n",
       "    <tr>\n",
       "      <th>75%</th>\n",
       "      <td>1.000000</td>\n",
       "      <td>3.000000</td>\n",
       "      <td>38.000000</td>\n",
       "      <td>1.000000</td>\n",
       "      <td>0.000000</td>\n",
       "      <td>31.000000</td>\n",
       "    </tr>\n",
       "    <tr>\n",
       "      <th>max</th>\n",
       "      <td>1.000000</td>\n",
       "      <td>3.000000</td>\n",
       "      <td>80.000000</td>\n",
       "      <td>8.000000</td>\n",
       "      <td>6.000000</td>\n",
       "      <td>512.329200</td>\n",
       "    </tr>\n",
       "  </tbody>\n",
       "</table>\n",
       "</div>"
      ],
      "text/plain": [
       "         Survived      Pclass         Age       SibSp       Parch        Fare\n",
       "count  891.000000  891.000000  714.000000  891.000000  891.000000  891.000000\n",
       "mean     0.383838    2.308642   29.699118    0.523008    0.381594   32.204208\n",
       "std      0.486592    0.836071   14.526497    1.102743    0.806057   49.693429\n",
       "min      0.000000    1.000000    0.420000    0.000000    0.000000    0.000000\n",
       "25%      0.000000    2.000000   20.125000    0.000000    0.000000    7.910400\n",
       "50%      0.000000    3.000000   28.000000    0.000000    0.000000   14.454200\n",
       "75%      1.000000    3.000000   38.000000    1.000000    0.000000   31.000000\n",
       "max      1.000000    3.000000   80.000000    8.000000    6.000000  512.329200"
      ]
     },
     "execution_count": 6,
     "metadata": {},
     "output_type": "execute_result"
    }
   ],
   "source": [
    "df_train.describe()"
   ]
  },
  {
   "cell_type": "code",
   "execution_count": 7,
   "metadata": {
    "execution": {
     "iopub.execute_input": "2021-02-01T20:51:23.727077Z",
     "iopub.status.busy": "2021-02-01T20:51:23.726202Z",
     "iopub.status.idle": "2021-02-01T20:51:23.730257Z",
     "shell.execute_reply": "2021-02-01T20:51:23.729669Z"
    },
    "papermill": {
     "duration": 0.047022,
     "end_time": "2021-02-01T20:51:23.730413",
     "exception": false,
     "start_time": "2021-02-01T20:51:23.683391",
     "status": "completed"
    },
    "tags": []
   },
   "outputs": [],
   "source": [
    "df_train.drop(['Name','Cabin','Ticket',\"Fare\"], axis=1, inplace=True )\n",
    "\n",
    "df_test.drop(['Name','Cabin','Ticket',\"Fare\"], axis=1, inplace=True )"
   ]
  },
  {
   "cell_type": "code",
   "execution_count": 8,
   "metadata": {
    "execution": {
     "iopub.execute_input": "2021-02-01T20:51:23.804385Z",
     "iopub.status.busy": "2021-02-01T20:51:23.803631Z",
     "iopub.status.idle": "2021-02-01T20:51:23.811187Z",
     "shell.execute_reply": "2021-02-01T20:51:23.809971Z"
    },
    "papermill": {
     "duration": 0.046085,
     "end_time": "2021-02-01T20:51:23.811435",
     "exception": false,
     "start_time": "2021-02-01T20:51:23.765350",
     "status": "completed"
    },
    "tags": []
   },
   "outputs": [
    {
     "name": "stdout",
     "output_type": "stream",
     "text": [
      "df_train:  Index(['Survived', 'Pclass', 'Sex', 'Age', 'SibSp', 'Parch', 'Embarked'], dtype='object') \n",
      "df_Test:   Index(['Pclass', 'Sex', 'Age', 'SibSp', 'Parch', 'Embarked'], dtype='object')\n"
     ]
    }
   ],
   "source": [
    "print(\"df_train: \",df_train.columns,\"\\ndf_Test:  \",df_test.columns)\n"
   ]
  },
  {
   "cell_type": "code",
   "execution_count": 9,
   "metadata": {
    "execution": {
     "iopub.execute_input": "2021-02-01T20:51:23.888501Z",
     "iopub.status.busy": "2021-02-01T20:51:23.887703Z",
     "iopub.status.idle": "2021-02-01T20:51:23.892713Z",
     "shell.execute_reply": "2021-02-01T20:51:23.893251Z"
    },
    "papermill": {
     "duration": 0.045023,
     "end_time": "2021-02-01T20:51:23.893458",
     "exception": false,
     "start_time": "2021-02-01T20:51:23.848435",
     "status": "completed"
    },
    "tags": []
   },
   "outputs": [
    {
     "data": {
      "text/plain": [
       "array([0, 1])"
      ]
     },
     "execution_count": 9,
     "metadata": {},
     "output_type": "execute_result"
    }
   ],
   "source": [
    "df_train.Survived.unique()"
   ]
  },
  {
   "cell_type": "code",
   "execution_count": 10,
   "metadata": {
    "execution": {
     "iopub.execute_input": "2021-02-01T20:51:23.966966Z",
     "iopub.status.busy": "2021-02-01T20:51:23.966240Z",
     "iopub.status.idle": "2021-02-01T20:51:23.977352Z",
     "shell.execute_reply": "2021-02-01T20:51:23.977855Z"
    },
    "papermill": {
     "duration": 0.050018,
     "end_time": "2021-02-01T20:51:23.978052",
     "exception": false,
     "start_time": "2021-02-01T20:51:23.928034",
     "status": "completed"
    },
    "tags": []
   },
   "outputs": [
    {
     "data": {
      "text/plain": [
       "0    549\n",
       "1    342\n",
       "Name: Survived, dtype: int64"
      ]
     },
     "execution_count": 10,
     "metadata": {},
     "output_type": "execute_result"
    }
   ],
   "source": [
    "df_train.Survived.value_counts()"
   ]
  },
  {
   "cell_type": "markdown",
   "metadata": {
    "papermill": {
     "duration": 0.036284,
     "end_time": "2021-02-01T20:51:24.051158",
     "exception": false,
     "start_time": "2021-02-01T20:51:24.014874",
     "status": "completed"
    },
    "tags": []
   },
   "source": [
    "\n",
    "\n",
    "Check for Null Values in **df_train**"
   ]
  },
  {
   "cell_type": "code",
   "execution_count": 11,
   "metadata": {
    "execution": {
     "iopub.execute_input": "2021-02-01T20:51:24.133242Z",
     "iopub.status.busy": "2021-02-01T20:51:24.132260Z",
     "iopub.status.idle": "2021-02-01T20:51:24.137767Z",
     "shell.execute_reply": "2021-02-01T20:51:24.137052Z"
    },
    "papermill": {
     "duration": 0.04959,
     "end_time": "2021-02-01T20:51:24.137931",
     "exception": false,
     "start_time": "2021-02-01T20:51:24.088341",
     "status": "completed"
    },
    "tags": []
   },
   "outputs": [
    {
     "data": {
      "text/plain": [
       "Survived      0\n",
       "Pclass        0\n",
       "Sex           0\n",
       "Age         177\n",
       "SibSp         0\n",
       "Parch         0\n",
       "Embarked      2\n",
       "dtype: int64"
      ]
     },
     "execution_count": 11,
     "metadata": {},
     "output_type": "execute_result"
    }
   ],
   "source": [
    "df_train.isnull().sum()\n"
   ]
  },
  {
   "cell_type": "code",
   "execution_count": 12,
   "metadata": {
    "execution": {
     "iopub.execute_input": "2021-02-01T20:51:24.215096Z",
     "iopub.status.busy": "2021-02-01T20:51:24.214396Z",
     "iopub.status.idle": "2021-02-01T20:51:24.218968Z",
     "shell.execute_reply": "2021-02-01T20:51:24.218290Z"
    },
    "papermill": {
     "duration": 0.045915,
     "end_time": "2021-02-01T20:51:24.219114",
     "exception": false,
     "start_time": "2021-02-01T20:51:24.173199",
     "status": "completed"
    },
    "tags": []
   },
   "outputs": [
    {
     "data": {
      "text/plain": [
       "29.69911764705882"
      ]
     },
     "execution_count": 12,
     "metadata": {},
     "output_type": "execute_result"
    }
   ],
   "source": [
    "mean_train = df_train['Age'].mean()\n",
    "mean_train"
   ]
  },
  {
   "cell_type": "code",
   "execution_count": 13,
   "metadata": {
    "execution": {
     "iopub.execute_input": "2021-02-01T20:51:24.300587Z",
     "iopub.status.busy": "2021-02-01T20:51:24.299513Z",
     "iopub.status.idle": "2021-02-01T20:51:24.303775Z",
     "shell.execute_reply": "2021-02-01T20:51:24.303186Z"
    },
    "papermill": {
     "duration": 0.048996,
     "end_time": "2021-02-01T20:51:24.303941",
     "exception": false,
     "start_time": "2021-02-01T20:51:24.254945",
     "status": "completed"
    },
    "tags": []
   },
   "outputs": [],
   "source": [
    "df_train[\"Age\"] = df_train[\"Age\"].fillna(mean_train)"
   ]
  },
  {
   "cell_type": "code",
   "execution_count": 14,
   "metadata": {
    "execution": {
     "iopub.execute_input": "2021-02-01T20:51:24.386175Z",
     "iopub.status.busy": "2021-02-01T20:51:24.385321Z",
     "iopub.status.idle": "2021-02-01T20:51:24.390759Z",
     "shell.execute_reply": "2021-02-01T20:51:24.390046Z"
    },
    "papermill": {
     "duration": 0.049372,
     "end_time": "2021-02-01T20:51:24.390914",
     "exception": false,
     "start_time": "2021-02-01T20:51:24.341542",
     "status": "completed"
    },
    "tags": []
   },
   "outputs": [
    {
     "data": {
      "text/plain": [
       "0"
      ]
     },
     "execution_count": 14,
     "metadata": {},
     "output_type": "execute_result"
    }
   ],
   "source": [
    "df_train[\"Age\"].isnull().sum()"
   ]
  },
  {
   "cell_type": "markdown",
   "metadata": {
    "papermill": {
     "duration": 0.036996,
     "end_time": "2021-02-01T20:51:24.464179",
     "exception": false,
     "start_time": "2021-02-01T20:51:24.427183",
     "status": "completed"
    },
    "tags": []
   },
   "source": [
    "Check null values in **df_test**\n"
   ]
  },
  {
   "cell_type": "code",
   "execution_count": 15,
   "metadata": {
    "execution": {
     "iopub.execute_input": "2021-02-01T20:51:24.547909Z",
     "iopub.status.busy": "2021-02-01T20:51:24.546800Z",
     "iopub.status.idle": "2021-02-01T20:51:24.552400Z",
     "shell.execute_reply": "2021-02-01T20:51:24.551695Z"
    },
    "papermill": {
     "duration": 0.050565,
     "end_time": "2021-02-01T20:51:24.552565",
     "exception": false,
     "start_time": "2021-02-01T20:51:24.502000",
     "status": "completed"
    },
    "tags": []
   },
   "outputs": [
    {
     "data": {
      "text/plain": [
       "Pclass       0\n",
       "Sex          0\n",
       "Age         86\n",
       "SibSp        0\n",
       "Parch        0\n",
       "Embarked     0\n",
       "dtype: int64"
      ]
     },
     "execution_count": 15,
     "metadata": {},
     "output_type": "execute_result"
    }
   ],
   "source": [
    "df_test.isnull().sum()"
   ]
  },
  {
   "cell_type": "code",
   "execution_count": 16,
   "metadata": {
    "execution": {
     "iopub.execute_input": "2021-02-01T20:51:24.634407Z",
     "iopub.status.busy": "2021-02-01T20:51:24.633687Z",
     "iopub.status.idle": "2021-02-01T20:51:24.637972Z",
     "shell.execute_reply": "2021-02-01T20:51:24.637296Z"
    },
    "papermill": {
     "duration": 0.048107,
     "end_time": "2021-02-01T20:51:24.638147",
     "exception": false,
     "start_time": "2021-02-01T20:51:24.590040",
     "status": "completed"
    },
    "tags": []
   },
   "outputs": [
    {
     "data": {
      "text/plain": [
       "30.272590361445783"
      ]
     },
     "execution_count": 16,
     "metadata": {},
     "output_type": "execute_result"
    }
   ],
   "source": [
    "mean_test = df_test['Age'].mean()\n",
    "mean_test\n"
   ]
  },
  {
   "cell_type": "code",
   "execution_count": 17,
   "metadata": {
    "execution": {
     "iopub.execute_input": "2021-02-01T20:51:24.722486Z",
     "iopub.status.busy": "2021-02-01T20:51:24.721769Z",
     "iopub.status.idle": "2021-02-01T20:51:24.726452Z",
     "shell.execute_reply": "2021-02-01T20:51:24.725665Z"
    },
    "papermill": {
     "duration": 0.049186,
     "end_time": "2021-02-01T20:51:24.726613",
     "exception": false,
     "start_time": "2021-02-01T20:51:24.677427",
     "status": "completed"
    },
    "tags": []
   },
   "outputs": [],
   "source": [
    "df_test[\"Age\"] = df_test[\"Age\"].fillna(mean_test)"
   ]
  },
  {
   "cell_type": "code",
   "execution_count": 18,
   "metadata": {
    "execution": {
     "iopub.execute_input": "2021-02-01T20:51:24.810938Z",
     "iopub.status.busy": "2021-02-01T20:51:24.809896Z",
     "iopub.status.idle": "2021-02-01T20:51:24.815912Z",
     "shell.execute_reply": "2021-02-01T20:51:24.815034Z"
    },
    "papermill": {
     "duration": 0.050022,
     "end_time": "2021-02-01T20:51:24.816103",
     "exception": false,
     "start_time": "2021-02-01T20:51:24.766081",
     "status": "completed"
    },
    "tags": []
   },
   "outputs": [
    {
     "data": {
      "text/plain": [
       "0"
      ]
     },
     "execution_count": 18,
     "metadata": {},
     "output_type": "execute_result"
    }
   ],
   "source": [
    "df_test['Age'].isnull().sum()"
   ]
  },
  {
   "cell_type": "markdown",
   "metadata": {
    "papermill": {
     "duration": 0.038342,
     "end_time": "2021-02-01T20:51:24.895430",
     "exception": false,
     "start_time": "2021-02-01T20:51:24.857088",
     "status": "completed"
    },
    "tags": []
   },
   "source": [
    "Correlation "
   ]
  },
  {
   "cell_type": "code",
   "execution_count": 19,
   "metadata": {
    "execution": {
     "iopub.execute_input": "2021-02-01T20:51:24.981974Z",
     "iopub.status.busy": "2021-02-01T20:51:24.980667Z",
     "iopub.status.idle": "2021-02-01T20:51:24.985082Z",
     "shell.execute_reply": "2021-02-01T20:51:24.985648Z"
    },
    "papermill": {
     "duration": 0.050263,
     "end_time": "2021-02-01T20:51:24.985872",
     "exception": false,
     "start_time": "2021-02-01T20:51:24.935609",
     "status": "completed"
    },
    "tags": []
   },
   "outputs": [],
   "source": [
    "def correlation_heatmap(df_train):\n",
    "    correlations = df_train.corr()\n",
    "\n",
    "    fig, ax = plt.subplots(figsize=(10,10))\n",
    "    sns.heatmap(correlations, vmax=1.0, center=0, fmt='.2f',\n",
    "                square=True, linewidths=.5, annot=True, cbar_kws={\"shrink\": .70})\n",
    "    plt.show();"
   ]
  },
  {
   "cell_type": "code",
   "execution_count": 20,
   "metadata": {
    "execution": {
     "iopub.execute_input": "2021-02-01T20:51:25.105096Z",
     "iopub.status.busy": "2021-02-01T20:51:25.097075Z",
     "iopub.status.idle": "2021-02-01T20:51:25.441968Z",
     "shell.execute_reply": "2021-02-01T20:51:25.441211Z"
    },
    "papermill": {
     "duration": 0.41715,
     "end_time": "2021-02-01T20:51:25.442154",
     "exception": false,
     "start_time": "2021-02-01T20:51:25.025004",
     "status": "completed"
    },
    "tags": []
   },
   "outputs": [
    {
     "data": {
      "image/png": "[encoded data removed]",
      "text/plain": [
       "<Figure size 720x720 with 2 Axes>"
      ]
     },
     "metadata": {
      "needs_background": "light"
     },
     "output_type": "display_data"
    }
   ],
   "source": [
    "correlation_heatmap(df_train)"
   ]
  },
  {
   "cell_type": "code",
   "execution_count": 21,
   "metadata": {
    "execution": {
     "iopub.execute_input": "2021-02-01T20:51:25.534821Z",
     "iopub.status.busy": "2021-02-01T20:51:25.533789Z",
     "iopub.status.idle": "2021-02-01T20:51:25.540813Z",
     "shell.execute_reply": "2021-02-01T20:51:25.540038Z"
    },
    "papermill": {
     "duration": 0.05949,
     "end_time": "2021-02-01T20:51:25.540977",
     "exception": false,
     "start_time": "2021-02-01T20:51:25.481487",
     "status": "completed"
    },
    "tags": []
   },
   "outputs": [
    {
     "data": {
      "text/html": [
       "<div>\n",
       "<style scoped>\n",
       "    .dataframe tbody tr th:only-of-type {\n",
       "        vertical-align: middle;\n",
       "    }\n",
       "\n",
       "    .dataframe tbody tr th {\n",
       "        vertical-align: top;\n",
       "    }\n",
       "\n",
       "    .dataframe thead th {\n",
       "        text-align: right;\n",
       "    }\n",
       "</style>\n",
       "<table border=\"1\" class=\"dataframe\">\n",
       "  <thead>\n",
       "    <tr style=\"text-align: right;\">\n",
       "      <th></th>\n",
       "      <th>Survived</th>\n",
       "    </tr>\n",
       "    <tr>\n",
       "      <th>Embarked</th>\n",
       "      <th></th>\n",
       "    </tr>\n",
       "  </thead>\n",
       "  <tbody>\n",
       "    <tr>\n",
       "      <th>C</th>\n",
       "      <td>93</td>\n",
       "    </tr>\n",
       "    <tr>\n",
       "      <th>Q</th>\n",
       "      <td>30</td>\n",
       "    </tr>\n",
       "    <tr>\n",
       "      <th>S</th>\n",
       "      <td>217</td>\n",
       "    </tr>\n",
       "  </tbody>\n",
       "</table>\n",
       "</div>"
      ],
      "text/plain": [
       "          Survived\n",
       "Embarked          \n",
       "C               93\n",
       "Q               30\n",
       "S              217"
      ]
     },
     "execution_count": 21,
     "metadata": {},
     "output_type": "execute_result"
    }
   ],
   "source": [
    "df_train[['Survived', 'Embarked']].groupby('Embarked').sum()\n"
   ]
  },
  {
   "cell_type": "code",
   "execution_count": 22,
   "metadata": {
    "execution": {
     "iopub.execute_input": "2021-02-01T20:51:25.633631Z",
     "iopub.status.busy": "2021-02-01T20:51:25.632564Z",
     "iopub.status.idle": "2021-02-01T20:51:25.643483Z",
     "shell.execute_reply": "2021-02-01T20:51:25.643961Z"
    },
    "papermill": {
     "duration": 0.0618,
     "end_time": "2021-02-01T20:51:25.644163",
     "exception": false,
     "start_time": "2021-02-01T20:51:25.582363",
     "status": "completed"
    },
    "tags": []
   },
   "outputs": [
    {
     "data": {
      "text/html": [
       "<div>\n",
       "<style scoped>\n",
       "    .dataframe tbody tr th:only-of-type {\n",
       "        vertical-align: middle;\n",
       "    }\n",
       "\n",
       "    .dataframe tbody tr th {\n",
       "        vertical-align: top;\n",
       "    }\n",
       "\n",
       "    .dataframe thead th {\n",
       "        text-align: right;\n",
       "    }\n",
       "</style>\n",
       "<table border=\"1\" class=\"dataframe\">\n",
       "  <thead>\n",
       "    <tr style=\"text-align: right;\">\n",
       "      <th></th>\n",
       "      <th>Survived</th>\n",
       "    </tr>\n",
       "    <tr>\n",
       "      <th>Sex</th>\n",
       "      <th></th>\n",
       "    </tr>\n",
       "  </thead>\n",
       "  <tbody>\n",
       "    <tr>\n",
       "      <th>female</th>\n",
       "      <td>233</td>\n",
       "    </tr>\n",
       "    <tr>\n",
       "      <th>male</th>\n",
       "      <td>109</td>\n",
       "    </tr>\n",
       "  </tbody>\n",
       "</table>\n",
       "</div>"
      ],
      "text/plain": [
       "        Survived\n",
       "Sex             \n",
       "female       233\n",
       "male         109"
      ]
     },
     "execution_count": 22,
     "metadata": {},
     "output_type": "execute_result"
    }
   ],
   "source": [
    "df_train[['Survived', 'Sex']].groupby('Sex').sum()"
   ]
  },
  {
   "cell_type": "code",
   "execution_count": 23,
   "metadata": {
    "execution": {
     "iopub.execute_input": "2021-02-01T20:51:25.730902Z",
     "iopub.status.busy": "2021-02-01T20:51:25.729879Z",
     "iopub.status.idle": "2021-02-01T20:51:25.733861Z",
     "shell.execute_reply": "2021-02-01T20:51:25.733302Z"
    },
    "papermill": {
     "duration": 0.049365,
     "end_time": "2021-02-01T20:51:25.734009",
     "exception": false,
     "start_time": "2021-02-01T20:51:25.684644",
     "status": "completed"
    },
    "tags": []
   },
   "outputs": [],
   "source": [
    "import seaborn as sns"
   ]
  },
  {
   "cell_type": "code",
   "execution_count": 24,
   "metadata": {
    "execution": {
     "iopub.execute_input": "2021-02-01T20:51:25.821489Z",
     "iopub.status.busy": "2021-02-01T20:51:25.820666Z",
     "iopub.status.idle": "2021-02-01T20:51:30.645457Z",
     "shell.execute_reply": "2021-02-01T20:51:30.645987Z"
    },
    "papermill": {
     "duration": 4.871657,
     "end_time": "2021-02-01T20:51:30.646208",
     "exception": false,
     "start_time": "2021-02-01T20:51:25.774551",
     "status": "completed"
    },
    "tags": []
   },
   "outputs": [
    {
     "data": {
      "text/plain": [
       "<seaborn.axisgrid.PairGrid at 0x7fdd594bb910>"
      ]
     },
     "execution_count": 24,
     "metadata": {},
     "output_type": "execute_result"
    },
    {
     "data": {
      "image/png": "[encoded data removed]",
      "text/plain": [
       "<Figure size 771.875x720 with 20 Axes>"
      ]
     },
     "metadata": {
      "needs_background": "light"
     },
     "output_type": "display_data"
    }
   ],
   "source": [
    "sns.pairplot(df_train, hue='Survived')"
   ]
  },
  {
   "cell_type": "code",
   "execution_count": 25,
   "metadata": {
    "execution": {
     "iopub.execute_input": "2021-02-01T20:51:30.748376Z",
     "iopub.status.busy": "2021-02-01T20:51:30.746077Z",
     "iopub.status.idle": "2021-02-01T20:51:30.946507Z",
     "shell.execute_reply": "2021-02-01T20:51:30.947003Z"
    },
    "papermill": {
     "duration": 0.254357,
     "end_time": "2021-02-01T20:51:30.947219",
     "exception": false,
     "start_time": "2021-02-01T20:51:30.692862",
     "status": "completed"
    },
    "tags": []
   },
   "outputs": [
    {
     "data": {
      "image/png": "[encoded data removed]",
      "text/plain": [
       "<Figure size 432x288 with 1 Axes>"
      ]
     },
     "metadata": {
      "needs_background": "light"
     },
     "output_type": "display_data"
    }
   ],
   "source": [
    "ax = sns.countplot(x = 'Pclass', hue = 'Survived', palette = 'Set1', data = df_train)\n",
    "ax.set(title = 'Passenger status (Survived or not) against Passenger Class', \n",
    "       xlabel = 'Passenger Class',\n",
    "       ylabel = 'Total')\n",
    "plt.show()"
   ]
  },
  {
   "cell_type": "code",
   "execution_count": 26,
   "metadata": {
    "execution": {
     "iopub.execute_input": "2021-02-01T20:51:31.061282Z",
     "iopub.status.busy": "2021-02-01T20:51:31.050428Z",
     "iopub.status.idle": "2021-02-01T20:51:31.242234Z",
     "shell.execute_reply": "2021-02-01T20:51:31.241445Z"
    },
    "papermill": {
     "duration": 0.248122,
     "end_time": "2021-02-01T20:51:31.242400",
     "exception": false,
     "start_time": "2021-02-01T20:51:30.994278",
     "status": "completed"
    },
    "tags": []
   },
   "outputs": [
    {
     "name": "stdout",
     "output_type": "stream",
     "text": [
      "Survived    0    1\n",
      "Sex               \n",
      "female     81  233\n",
      "male      468  109\n"
     ]
    },
    {
     "data": {
      "image/png": "[encoded data removed]",
      "text/plain": [
       "<Figure size 432x288 with 1 Axes>"
      ]
     },
     "metadata": {
      "needs_background": "light"
     },
     "output_type": "display_data"
    }
   ],
   "source": [
    "print(pd.crosstab(df_train[\"Sex\"],df_train.Survived))\n",
    "ax = sns.countplot(x = 'Sex', hue = 'Survived', palette = 'Set1', data = df_train)\n",
    "ax.set(title = 'Male and Female Survival rate', xlabel = 'Sex', ylabel='Total')\n",
    "plt.show()"
   ]
  },
  {
   "cell_type": "code",
   "execution_count": 27,
   "metadata": {
    "execution": {
     "iopub.execute_input": "2021-02-01T20:51:31.346788Z",
     "iopub.status.busy": "2021-02-01T20:51:31.345968Z",
     "iopub.status.idle": "2021-02-01T20:51:31.348683Z",
     "shell.execute_reply": "2021-02-01T20:51:31.349378Z"
    },
    "papermill": {
     "duration": 0.058631,
     "end_time": "2021-02-01T20:51:31.349563",
     "exception": false,
     "start_time": "2021-02-01T20:51:31.290932",
     "status": "completed"
    },
    "tags": []
   },
   "outputs": [],
   "source": [
    "# intervals = (0,18,35,60,120)\n",
    "# categories = ['Children','Teens','Adult', 'Old']\n",
    "# df_train['Age'] = pd.cut(df_train.Age, intervals, labels = categories)\n",
    "\n",
    "# ax = sns.countplot(x = 'Age',  data = df_train, hue = 'Survived', palette = 'Set1')\n",
    "\n",
    "# ax.set(xlabel='Age Categorical', ylabel='Total',\n",
    "#        title=\"Age Categorical Survival Distribution\")\n",
    "\n",
    "# plt.show()"
   ]
  },
  {
   "cell_type": "markdown",
   "metadata": {
    "papermill": {
     "duration": 0.047452,
     "end_time": "2021-02-01T20:51:31.445214",
     "exception": false,
     "start_time": "2021-02-01T20:51:31.397762",
     "status": "completed"
    },
    "tags": []
   },
   "source": [
    "Feature Encoding"
   ]
  },
  {
   "cell_type": "code",
   "execution_count": 28,
   "metadata": {
    "execution": {
     "iopub.execute_input": "2021-02-01T20:51:31.545752Z",
     "iopub.status.busy": "2021-02-01T20:51:31.544924Z",
     "iopub.status.idle": "2021-02-01T20:51:31.549467Z",
     "shell.execute_reply": "2021-02-01T20:51:31.548687Z"
    },
    "papermill": {
     "duration": 0.055411,
     "end_time": "2021-02-01T20:51:31.549637",
     "exception": false,
     "start_time": "2021-02-01T20:51:31.494226",
     "status": "completed"
    },
    "tags": []
   },
   "outputs": [],
   "source": [
    "#from sklearn import preprocessing\n",
    "\n",
    "#label_encoder = preprocessing.LabelEncoder()"
   ]
  },
  {
   "cell_type": "markdown",
   "metadata": {
    "papermill": {
     "duration": 0.046373,
     "end_time": "2021-02-01T20:51:31.644074",
     "exception": false,
     "start_time": "2021-02-01T20:51:31.597701",
     "status": "completed"
    },
    "tags": []
   },
   "source": [
    "Another way to encode catagorical values"
   ]
  },
  {
   "cell_type": "code",
   "execution_count": 29,
   "metadata": {
    "execution": {
     "iopub.execute_input": "2021-02-01T20:51:31.744307Z",
     "iopub.status.busy": "2021-02-01T20:51:31.743484Z",
     "iopub.status.idle": "2021-02-01T20:51:31.747617Z",
     "shell.execute_reply": "2021-02-01T20:51:31.746903Z"
    },
    "papermill": {
     "duration": 0.05697,
     "end_time": "2021-02-01T20:51:31.747768",
     "exception": false,
     "start_time": "2021-02-01T20:51:31.690798",
     "status": "completed"
    },
    "tags": []
   },
   "outputs": [],
   "source": [
    "X = df_train.drop(\"Survived\", axis=1)\n",
    "y = df_train['Survived']"
   ]
  },
  {
   "cell_type": "code",
   "execution_count": 30,
   "metadata": {
    "execution": {
     "iopub.execute_input": "2021-02-01T20:51:31.845343Z",
     "iopub.status.busy": "2021-02-01T20:51:31.844612Z",
     "iopub.status.idle": "2021-02-01T20:51:31.852851Z",
     "shell.execute_reply": "2021-02-01T20:51:31.853422Z"
    },
    "papermill": {
     "duration": 0.059027,
     "end_time": "2021-02-01T20:51:31.853622",
     "exception": false,
     "start_time": "2021-02-01T20:51:31.794595",
     "status": "completed"
    },
    "tags": []
   },
   "outputs": [
    {
     "data": {
      "text/plain": [
       "Index(['Sex', 'Embarked'], dtype='object')"
      ]
     },
     "execution_count": 30,
     "metadata": {},
     "output_type": "execute_result"
    }
   ],
   "source": [
    "catag_X = X.select_dtypes(exclude=['int64','float64']).columns\n",
    "catag_X"
   ]
  },
  {
   "cell_type": "code",
   "execution_count": 31,
   "metadata": {
    "execution": {
     "iopub.execute_input": "2021-02-01T20:51:31.959851Z",
     "iopub.status.busy": "2021-02-01T20:51:31.958672Z",
     "iopub.status.idle": "2021-02-01T20:51:31.967080Z",
     "shell.execute_reply": "2021-02-01T20:51:31.967677Z"
    },
    "papermill": {
     "duration": 0.064921,
     "end_time": "2021-02-01T20:51:31.968036",
     "exception": false,
     "start_time": "2021-02-01T20:51:31.903115",
     "status": "completed"
    },
    "tags": []
   },
   "outputs": [],
   "source": [
    "for i in catag_X:\n",
    "    X[i]=pd.factorize(X[i])[0]\n",
    "    df_test[i]=pd.factorize(df_test[i])[0]"
   ]
  },
  {
   "cell_type": "code",
   "execution_count": 32,
   "metadata": {
    "execution": {
     "iopub.execute_input": "2021-02-01T20:51:32.073471Z",
     "iopub.status.busy": "2021-02-01T20:51:32.072731Z",
     "iopub.status.idle": "2021-02-01T20:51:32.085545Z",
     "shell.execute_reply": "2021-02-01T20:51:32.086406Z"
    },
    "papermill": {
     "duration": 0.068705,
     "end_time": "2021-02-01T20:51:32.086617",
     "exception": false,
     "start_time": "2021-02-01T20:51:32.017912",
     "status": "completed"
    },
    "tags": []
   },
   "outputs": [
    {
     "data": {
      "text/html": [
       "<div>\n",
       "<style scoped>\n",
       "    .dataframe tbody tr th:only-of-type {\n",
       "        vertical-align: middle;\n",
       "    }\n",
       "\n",
       "    .dataframe tbody tr th {\n",
       "        vertical-align: top;\n",
       "    }\n",
       "\n",
       "    .dataframe thead th {\n",
       "        text-align: right;\n",
       "    }\n",
       "</style>\n",
       "<table border=\"1\" class=\"dataframe\">\n",
       "  <thead>\n",
       "    <tr style=\"text-align: right;\">\n",
       "      <th></th>\n",
       "      <th>Pclass</th>\n",
       "      <th>Sex</th>\n",
       "      <th>Age</th>\n",
       "      <th>SibSp</th>\n",
       "      <th>Parch</th>\n",
       "      <th>Embarked</th>\n",
       "    </tr>\n",
       "    <tr>\n",
       "      <th>PassengerId</th>\n",
       "      <th></th>\n",
       "      <th></th>\n",
       "      <th></th>\n",
       "      <th></th>\n",
       "      <th></th>\n",
       "      <th></th>\n",
       "    </tr>\n",
       "  </thead>\n",
       "  <tbody>\n",
       "    <tr>\n",
       "      <th>1</th>\n",
       "      <td>3</td>\n",
       "      <td>0</td>\n",
       "      <td>22.0</td>\n",
       "      <td>1</td>\n",
       "      <td>0</td>\n",
       "      <td>0</td>\n",
       "    </tr>\n",
       "    <tr>\n",
       "      <th>2</th>\n",
       "      <td>1</td>\n",
       "      <td>1</td>\n",
       "      <td>38.0</td>\n",
       "      <td>1</td>\n",
       "      <td>0</td>\n",
       "      <td>1</td>\n",
       "    </tr>\n",
       "    <tr>\n",
       "      <th>3</th>\n",
       "      <td>3</td>\n",
       "      <td>1</td>\n",
       "      <td>26.0</td>\n",
       "      <td>0</td>\n",
       "      <td>0</td>\n",
       "      <td>0</td>\n",
       "    </tr>\n",
       "    <tr>\n",
       "      <th>4</th>\n",
       "      <td>1</td>\n",
       "      <td>1</td>\n",
       "      <td>35.0</td>\n",
       "      <td>1</td>\n",
       "      <td>0</td>\n",
       "      <td>0</td>\n",
       "    </tr>\n",
       "    <tr>\n",
       "      <th>5</th>\n",
       "      <td>3</td>\n",
       "      <td>0</td>\n",
       "      <td>35.0</td>\n",
       "      <td>0</td>\n",
       "      <td>0</td>\n",
       "      <td>0</td>\n",
       "    </tr>\n",
       "  </tbody>\n",
       "</table>\n",
       "</div>"
      ],
      "text/plain": [
       "             Pclass  Sex   Age  SibSp  Parch  Embarked\n",
       "PassengerId                                           \n",
       "1                 3    0  22.0      1      0         0\n",
       "2                 1    1  38.0      1      0         1\n",
       "3                 3    1  26.0      0      0         0\n",
       "4                 1    1  35.0      1      0         0\n",
       "5                 3    0  35.0      0      0         0"
      ]
     },
     "execution_count": 32,
     "metadata": {},
     "output_type": "execute_result"
    }
   ],
   "source": [
    "X.head()"
   ]
  },
  {
   "cell_type": "code",
   "execution_count": 33,
   "metadata": {
    "execution": {
     "iopub.execute_input": "2021-02-01T20:51:32.190140Z",
     "iopub.status.busy": "2021-02-01T20:51:32.189409Z",
     "iopub.status.idle": "2021-02-01T20:51:32.201854Z",
     "shell.execute_reply": "2021-02-01T20:51:32.202420Z"
    },
    "papermill": {
     "duration": 0.06522,
     "end_time": "2021-02-01T20:51:32.202595",
     "exception": false,
     "start_time": "2021-02-01T20:51:32.137375",
     "status": "completed"
    },
    "tags": []
   },
   "outputs": [
    {
     "data": {
      "text/html": [
       "<div>\n",
       "<style scoped>\n",
       "    .dataframe tbody tr th:only-of-type {\n",
       "        vertical-align: middle;\n",
       "    }\n",
       "\n",
       "    .dataframe tbody tr th {\n",
       "        vertical-align: top;\n",
       "    }\n",
       "\n",
       "    .dataframe thead th {\n",
       "        text-align: right;\n",
       "    }\n",
       "</style>\n",
       "<table border=\"1\" class=\"dataframe\">\n",
       "  <thead>\n",
       "    <tr style=\"text-align: right;\">\n",
       "      <th></th>\n",
       "      <th>Pclass</th>\n",
       "      <th>Sex</th>\n",
       "      <th>Age</th>\n",
       "      <th>SibSp</th>\n",
       "      <th>Parch</th>\n",
       "      <th>Embarked</th>\n",
       "    </tr>\n",
       "    <tr>\n",
       "      <th>PassengerId</th>\n",
       "      <th></th>\n",
       "      <th></th>\n",
       "      <th></th>\n",
       "      <th></th>\n",
       "      <th></th>\n",
       "      <th></th>\n",
       "    </tr>\n",
       "  </thead>\n",
       "  <tbody>\n",
       "    <tr>\n",
       "      <th>892</th>\n",
       "      <td>3</td>\n",
       "      <td>0</td>\n",
       "      <td>34.5</td>\n",
       "      <td>0</td>\n",
       "      <td>0</td>\n",
       "      <td>0</td>\n",
       "    </tr>\n",
       "    <tr>\n",
       "      <th>893</th>\n",
       "      <td>3</td>\n",
       "      <td>1</td>\n",
       "      <td>47.0</td>\n",
       "      <td>1</td>\n",
       "      <td>0</td>\n",
       "      <td>1</td>\n",
       "    </tr>\n",
       "    <tr>\n",
       "      <th>894</th>\n",
       "      <td>2</td>\n",
       "      <td>0</td>\n",
       "      <td>62.0</td>\n",
       "      <td>0</td>\n",
       "      <td>0</td>\n",
       "      <td>0</td>\n",
       "    </tr>\n",
       "    <tr>\n",
       "      <th>895</th>\n",
       "      <td>3</td>\n",
       "      <td>0</td>\n",
       "      <td>27.0</td>\n",
       "      <td>0</td>\n",
       "      <td>0</td>\n",
       "      <td>1</td>\n",
       "    </tr>\n",
       "    <tr>\n",
       "      <th>896</th>\n",
       "      <td>3</td>\n",
       "      <td>1</td>\n",
       "      <td>22.0</td>\n",
       "      <td>1</td>\n",
       "      <td>1</td>\n",
       "      <td>1</td>\n",
       "    </tr>\n",
       "  </tbody>\n",
       "</table>\n",
       "</div>"
      ],
      "text/plain": [
       "             Pclass  Sex   Age  SibSp  Parch  Embarked\n",
       "PassengerId                                           \n",
       "892               3    0  34.5      0      0         0\n",
       "893               3    1  47.0      1      0         1\n",
       "894               2    0  62.0      0      0         0\n",
       "895               3    0  27.0      0      0         1\n",
       "896               3    1  22.0      1      1         1"
      ]
     },
     "execution_count": 33,
     "metadata": {},
     "output_type": "execute_result"
    }
   ],
   "source": [
    "df_test.head()"
   ]
  },
  {
   "cell_type": "code",
   "execution_count": 34,
   "metadata": {
    "execution": {
     "iopub.execute_input": "2021-02-01T20:51:32.304027Z",
     "iopub.status.busy": "2021-02-01T20:51:32.303345Z",
     "iopub.status.idle": "2021-02-01T20:51:32.310546Z",
     "shell.execute_reply": "2021-02-01T20:51:32.309869Z"
    },
    "papermill": {
     "duration": 0.059522,
     "end_time": "2021-02-01T20:51:32.310694",
     "exception": false,
     "start_time": "2021-02-01T20:51:32.251172",
     "status": "completed"
    },
    "tags": []
   },
   "outputs": [
    {
     "name": "stdout",
     "output_type": "stream",
     "text": [
      "X.shape:  (891, 6) \t y.shape:  (891,) \t df_test.shape:  (418, 6)\n"
     ]
    }
   ],
   "source": [
    "print(\"X.shape: \",X.shape,\"\\t y.shape: \",y.shape, \"\\t df_test.shape: \",df_test.shape)"
   ]
  },
  {
   "cell_type": "markdown",
   "metadata": {
    "papermill": {
     "duration": 0.048752,
     "end_time": "2021-02-01T20:51:32.409272",
     "exception": false,
     "start_time": "2021-02-01T20:51:32.360520",
     "status": "completed"
    },
    "tags": []
   },
   "source": [
    "KNeighborsClassifier"
   ]
  },
  {
   "cell_type": "code",
   "execution_count": 35,
   "metadata": {
    "execution": {
     "iopub.execute_input": "2021-02-01T20:51:32.514418Z",
     "iopub.status.busy": "2021-02-01T20:51:32.513348Z",
     "iopub.status.idle": "2021-02-01T20:51:33.154103Z",
     "shell.execute_reply": "2021-02-01T20:51:33.153175Z"
    },
    "papermill": {
     "duration": 0.695162,
     "end_time": "2021-02-01T20:51:33.154336",
     "exception": false,
     "start_time": "2021-02-01T20:51:32.459174",
     "status": "completed"
    },
    "tags": []
   },
   "outputs": [],
   "source": [
    "from sklearn.neighbors import KNeighborsClassifier\n",
    "from sklearn.metrics import confusion_matrix, accuracy_score\n",
    "from sklearn.model_selection import cross_val_score\n",
    "from sklearn.metrics import mean_squared_error\n",
    "from math import sqrt"
   ]
  },
  {
   "cell_type": "code",
   "execution_count": 36,
   "metadata": {
    "execution": {
     "iopub.execute_input": "2021-02-01T20:51:33.259218Z",
     "iopub.status.busy": "2021-02-01T20:51:33.258168Z",
     "iopub.status.idle": "2021-02-01T20:51:33.262432Z",
     "shell.execute_reply": "2021-02-01T20:51:33.261462Z"
    },
    "papermill": {
     "duration": 0.058907,
     "end_time": "2021-02-01T20:51:33.262715",
     "exception": false,
     "start_time": "2021-02-01T20:51:33.203808",
     "status": "completed"
    },
    "tags": []
   },
   "outputs": [],
   "source": [
    "knn = KNeighborsClassifier()"
   ]
  },
  {
   "cell_type": "markdown",
   "metadata": {
    "papermill": {
     "duration": 0.051577,
     "end_time": "2021-02-01T20:51:33.365776",
     "exception": false,
     "start_time": "2021-02-01T20:51:33.314199",
     "status": "completed"
    },
    "tags": []
   },
   "source": [
    "Find Optimal value for k by elbow method."
   ]
  },
  {
   "cell_type": "code",
   "execution_count": 37,
   "metadata": {
    "execution": {
     "iopub.execute_input": "2021-02-01T20:51:33.471087Z",
     "iopub.status.busy": "2021-02-01T20:51:33.469964Z",
     "iopub.status.idle": "2021-02-01T20:51:33.473799Z",
     "shell.execute_reply": "2021-02-01T20:51:33.473221Z"
    },
    "papermill": {
     "duration": 0.058708,
     "end_time": "2021-02-01T20:51:33.473944",
     "exception": false,
     "start_time": "2021-02-01T20:51:33.415236",
     "status": "completed"
    },
    "tags": []
   },
   "outputs": [],
   "source": [
    "# rmse_val = [] #to store rmse values for different k\n",
    "# for K in range(1,40):\n",
    "    \n",
    "#     model =KNeighborsClassifier(n_neighbors = K)\n",
    "\n",
    "#     model.fit(X, y)  #fit the model\n",
    "#     pred=model.predict(df_test) #make prediction on test set\n",
    "#     error = sqrt(mean_squared_error(df_testY,pred)) #calculate rmse\n",
    "#     rmse_val.append(error) #store rmse values\n",
    "#     print('RMSE value for k= ' , K , 'is:', error)"
   ]
  },
  {
   "cell_type": "code",
   "execution_count": 38,
   "metadata": {
    "execution": {
     "iopub.execute_input": "2021-02-01T20:51:33.578333Z",
     "iopub.status.busy": "2021-02-01T20:51:33.577617Z",
     "iopub.status.idle": "2021-02-01T20:51:33.581278Z",
     "shell.execute_reply": "2021-02-01T20:51:33.581887Z"
    },
    "papermill": {
     "duration": 0.058294,
     "end_time": "2021-02-01T20:51:33.582144",
     "exception": false,
     "start_time": "2021-02-01T20:51:33.523850",
     "status": "completed"
    },
    "tags": []
   },
   "outputs": [],
   "source": [
    "# #plotting the rmse values against k values\n",
    "# curve = pd.DataFrame(rmse_val) #elbow curve \n",
    "# curve.plot()"
   ]
  },
  {
   "cell_type": "code",
   "execution_count": 39,
   "metadata": {
    "execution": {
     "iopub.execute_input": "2021-02-01T20:51:33.729687Z",
     "iopub.status.busy": "2021-02-01T20:51:33.728558Z",
     "iopub.status.idle": "2021-02-01T20:51:33.731456Z",
     "shell.execute_reply": "2021-02-01T20:51:33.732236Z"
    },
    "papermill": {
     "duration": 0.080424,
     "end_time": "2021-02-01T20:51:33.732478",
     "exception": false,
     "start_time": "2021-02-01T20:51:33.652054",
     "status": "completed"
    },
    "tags": []
   },
   "outputs": [],
   "source": [
    "knn = KNeighborsClassifier(n_neighbors=5)"
   ]
  },
  {
   "cell_type": "code",
   "execution_count": 40,
   "metadata": {
    "execution": {
     "iopub.execute_input": "2021-02-01T20:51:33.839030Z",
     "iopub.status.busy": "2021-02-01T20:51:33.838022Z",
     "iopub.status.idle": "2021-02-01T20:51:33.852588Z",
     "shell.execute_reply": "2021-02-01T20:51:33.853082Z"
    },
    "papermill": {
     "duration": 0.068985,
     "end_time": "2021-02-01T20:51:33.853299",
     "exception": false,
     "start_time": "2021-02-01T20:51:33.784314",
     "status": "completed"
    },
    "tags": []
   },
   "outputs": [
    {
     "data": {
      "text/plain": [
       "KNeighborsClassifier()"
      ]
     },
     "execution_count": 40,
     "metadata": {},
     "output_type": "execute_result"
    }
   ],
   "source": [
    "knn.fit(X, y)"
   ]
  },
  {
   "cell_type": "code",
   "execution_count": 41,
   "metadata": {
    "execution": {
     "iopub.execute_input": "2021-02-01T20:51:33.958024Z",
     "iopub.status.busy": "2021-02-01T20:51:33.957001Z",
     "iopub.status.idle": "2021-02-01T20:51:33.985385Z",
     "shell.execute_reply": "2021-02-01T20:51:33.984700Z"
    },
    "papermill": {
     "duration": 0.082554,
     "end_time": "2021-02-01T20:51:33.985554",
     "exception": false,
     "start_time": "2021-02-01T20:51:33.903000",
     "status": "completed"
    },
    "tags": []
   },
   "outputs": [
    {
     "data": {
      "text/plain": [
       "array([0, 0, 0, 1, 0, 1, 0, 0, 0, 0, 0, 0, 1, 0, 1, 1, 0, 0, 0, 0, 1, 1,\n",
       "       1, 0, 1, 0, 1, 0, 1, 0, 0, 0, 0, 0, 1, 0, 1, 1, 0, 0, 0, 0, 0, 1,\n",
       "       1, 0, 1, 0, 1, 0, 1, 1, 1, 0, 0, 0, 0, 0, 0, 1, 0, 0, 0, 1, 1, 1,\n",
       "       1, 0, 0, 1, 0, 0, 1, 0, 1, 1, 0, 1, 0, 0, 1, 0, 1, 0, 0, 0, 1, 0,\n",
       "       0, 1, 0, 0, 0, 0, 1, 0, 0, 0, 0, 0, 1, 0, 0, 0, 1, 0, 0, 0, 0, 0,\n",
       "       0, 0, 1, 1, 0, 0, 0, 1, 1, 1, 1, 0, 1, 0, 0, 0, 0, 1, 1, 0, 0, 1,\n",
       "       0, 0, 0, 0, 0, 0, 0, 0, 0, 1, 0, 0, 1, 0, 0, 0, 0, 0, 1, 0, 0, 0,\n",
       "       0, 0, 1, 0, 1, 1, 0, 1, 1, 0, 0, 0, 1, 0, 1, 1, 0, 0, 0, 0, 0, 1,\n",
       "       1, 0, 1, 0, 0, 1, 1, 0, 1, 0, 1, 0, 0, 0, 0, 0, 1, 0, 1, 0, 1, 0,\n",
       "       0, 1, 0, 1, 0, 1, 0, 0, 0, 0, 1, 0, 0, 0, 0, 0, 1, 1, 0, 0, 0, 0,\n",
       "       1, 0, 1, 0, 1, 1, 0, 0, 0, 0, 1, 1, 1, 0, 1, 0, 0, 0, 1, 1, 1, 1,\n",
       "       1, 0, 1, 1, 1, 0, 1, 1, 1, 0, 1, 0, 0, 0, 0, 0, 1, 0, 0, 0, 0, 1,\n",
       "       0, 0, 0, 0, 1, 0, 0, 0, 1, 0, 0, 1, 0, 0, 0, 0, 0, 1, 0, 0, 1, 0,\n",
       "       0, 1, 0, 0, 0, 0, 0, 1, 0, 0, 1, 0, 0, 0, 0, 0, 0, 0, 0, 0, 0, 1,\n",
       "       0, 0, 0, 0, 0, 0, 1, 0, 0, 0, 1, 0, 0, 0, 0, 1, 1, 0, 1, 0, 0, 0,\n",
       "       1, 1, 0, 0, 1, 0, 0, 0, 0, 0, 0, 0, 0, 0, 1, 1, 0, 0, 0, 1, 1, 0,\n",
       "       0, 1, 1, 0, 1, 0, 0, 1, 0, 1, 1, 1, 1, 0, 0, 1, 1, 0, 0, 1, 1, 0,\n",
       "       1, 1, 0, 0, 0, 0, 0, 0, 1, 1, 0, 1, 0, 0, 0, 0, 0, 1, 1, 0, 0, 1,\n",
       "       0, 1, 0, 0, 1, 0, 1, 0, 1, 0, 0, 1, 0, 1, 0, 0, 0, 0, 1, 0, 0, 0])"
      ]
     },
     "execution_count": 41,
     "metadata": {},
     "output_type": "execute_result"
    }
   ],
   "source": [
    "pred = knn.predict(df_test)\n",
    "pred"
   ]
  },
  {
   "cell_type": "code",
   "execution_count": 42,
   "metadata": {
    "execution": {
     "iopub.execute_input": "2021-02-01T20:51:34.094306Z",
     "iopub.status.busy": "2021-02-01T20:51:34.093037Z",
     "iopub.status.idle": "2021-02-01T20:51:34.099585Z",
     "shell.execute_reply": "2021-02-01T20:51:34.098980Z"
    },
    "papermill": {
     "duration": 0.063206,
     "end_time": "2021-02-01T20:51:34.099746",
     "exception": false,
     "start_time": "2021-02-01T20:51:34.036540",
     "status": "completed"
    },
    "tags": []
   },
   "outputs": [
    {
     "data": {
      "text/plain": [
       "74.4019138755981"
      ]
     },
     "execution_count": 42,
     "metadata": {},
     "output_type": "execute_result"
    }
   ],
   "source": [
    "accuracy_score(df_testY, pred)*100"
   ]
  },
  {
   "cell_type": "code",
   "execution_count": 43,
   "metadata": {
    "execution": {
     "iopub.execute_input": "2021-02-01T20:51:34.212146Z",
     "iopub.status.busy": "2021-02-01T20:51:34.211403Z",
     "iopub.status.idle": "2021-02-01T20:51:34.214617Z",
     "shell.execute_reply": "2021-02-01T20:51:34.213864Z"
    },
    "papermill": {
     "duration": 0.060987,
     "end_time": "2021-02-01T20:51:34.214777",
     "exception": false,
     "start_time": "2021-02-01T20:51:34.153790",
     "status": "completed"
    },
    "tags": []
   },
   "outputs": [],
   "source": [
    "from sklearn.metrics import confusion_matrix\n",
    "from sklearn.metrics import classification_report"
   ]
  },
  {
   "cell_type": "code",
   "execution_count": 44,
   "metadata": {
    "execution": {
     "iopub.execute_input": "2021-02-01T20:51:34.325466Z",
     "iopub.status.busy": "2021-02-01T20:51:34.324717Z",
     "iopub.status.idle": "2021-02-01T20:51:34.334111Z",
     "shell.execute_reply": "2021-02-01T20:51:34.333472Z"
    },
    "papermill": {
     "duration": 0.066606,
     "end_time": "2021-02-01T20:51:34.334300",
     "exception": false,
     "start_time": "2021-02-01T20:51:34.267694",
     "status": "completed"
    },
    "tags": []
   },
   "outputs": [
    {
     "name": "stdout",
     "output_type": "stream",
     "text": [
      "              precision    recall  f1-score   support\n",
      "\n",
      "           0       0.79      0.81      0.80       266\n",
      "           1       0.66      0.62      0.64       152\n",
      "\n",
      "    accuracy                           0.74       418\n",
      "   macro avg       0.72      0.72      0.72       418\n",
      "weighted avg       0.74      0.74      0.74       418\n",
      "\n"
     ]
    }
   ],
   "source": [
    "print(classification_report(df_testY,pred))"
   ]
  },
  {
   "cell_type": "markdown",
   "metadata": {
    "papermill": {
     "duration": 0.052255,
     "end_time": "2021-02-01T20:51:34.438880",
     "exception": false,
     "start_time": "2021-02-01T20:51:34.386625",
     "status": "completed"
    },
    "tags": []
   },
   "source": [
    "SVM Classifier"
   ]
  },
  {
   "cell_type": "code",
   "execution_count": 45,
   "metadata": {
    "execution": {
     "iopub.execute_input": "2021-02-01T20:51:34.555776Z",
     "iopub.status.busy": "2021-02-01T20:51:34.552972Z",
     "iopub.status.idle": "2021-02-01T20:51:35.646155Z",
     "shell.execute_reply": "2021-02-01T20:51:35.646683Z"
    },
    "papermill": {
     "duration": 1.155225,
     "end_time": "2021-02-01T20:51:35.646882",
     "exception": false,
     "start_time": "2021-02-01T20:51:34.491657",
     "status": "completed"
    },
    "tags": []
   },
   "outputs": [
    {
     "data": {
      "text/plain": [
       "array([0, 1, 0, 0, 1, 0, 1, 0, 1, 0, 0, 0, 1, 0, 1, 1, 0, 0, 1, 1, 0, 0,\n",
       "       1, 0, 1, 0, 1, 0, 0, 0, 0, 0, 1, 1, 0, 0, 1, 1, 0, 0, 0, 0, 0, 1,\n",
       "       1, 0, 0, 0, 1, 1, 0, 0, 1, 1, 0, 0, 0, 0, 0, 1, 0, 0, 0, 1, 0, 1,\n",
       "       1, 0, 0, 1, 1, 0, 1, 0, 1, 0, 0, 1, 0, 1, 0, 0, 0, 0, 0, 0, 1, 1,\n",
       "       1, 0, 1, 0, 1, 0, 0, 0, 1, 0, 1, 0, 1, 0, 0, 0, 1, 0, 0, 0, 0, 0,\n",
       "       0, 1, 1, 1, 1, 0, 0, 1, 0, 1, 1, 0, 1, 0, 0, 1, 0, 1, 0, 0, 0, 0,\n",
       "       1, 0, 0, 0, 0, 0, 1, 0, 1, 1, 0, 0, 0, 0, 0, 0, 0, 0, 1, 0, 0, 1,\n",
       "       0, 0, 1, 1, 0, 1, 1, 0, 1, 0, 0, 1, 0, 0, 1, 1, 0, 0, 0, 0, 0, 1,\n",
       "       1, 0, 1, 1, 0, 0, 1, 0, 1, 0, 1, 0, 1, 0, 0, 0, 0, 0, 0, 0, 0, 1,\n",
       "       0, 1, 1, 0, 0, 1, 0, 0, 1, 0, 1, 0, 0, 0, 0, 1, 1, 0, 1, 0, 1, 0,\n",
       "       1, 0, 1, 0, 1, 1, 0, 1, 0, 0, 0, 1, 0, 0, 0, 0, 0, 0, 1, 1, 1, 1,\n",
       "       0, 0, 0, 0, 1, 0, 1, 1, 1, 0, 0, 0, 0, 0, 0, 0, 1, 0, 0, 0, 1, 1,\n",
       "       0, 0, 0, 0, 1, 0, 0, 0, 1, 1, 0, 1, 0, 0, 0, 0, 1, 0, 1, 1, 1, 0,\n",
       "       0, 0, 0, 0, 0, 1, 0, 0, 0, 0, 1, 0, 0, 0, 0, 0, 0, 0, 1, 1, 0, 0,\n",
       "       0, 1, 0, 0, 0, 1, 1, 1, 0, 0, 0, 0, 0, 0, 0, 0, 1, 0, 1, 0, 0, 0,\n",
       "       1, 0, 0, 1, 0, 0, 0, 0, 0, 0, 0, 0, 0, 1, 0, 1, 0, 1, 0, 1, 1, 0,\n",
       "       0, 0, 1, 0, 1, 0, 0, 1, 0, 1, 1, 0, 1, 1, 0, 1, 1, 0, 0, 1, 0, 0,\n",
       "       1, 1, 1, 0, 0, 0, 0, 0, 1, 1, 0, 1, 0, 0, 0, 0, 0, 1, 0, 0, 0, 1,\n",
       "       0, 1, 0, 0, 1, 0, 1, 0, 0, 0, 0, 0, 1, 1, 1, 1, 1, 0, 1, 0, 0, 0])"
      ]
     },
     "execution_count": 45,
     "metadata": {},
     "output_type": "execute_result"
    }
   ],
   "source": [
    "from sklearn import svm\n",
    "\n",
    "clf = svm.SVC(kernel='linear') # Linear Kernel\n",
    "\n",
    "clf.fit(X, y)\n",
    "\n",
    "y_pred = clf.predict(df_test)\n",
    "y_pred"
   ]
  },
  {
   "cell_type": "code",
   "execution_count": 46,
   "metadata": {
    "execution": {
     "iopub.execute_input": "2021-02-01T20:51:35.763294Z",
     "iopub.status.busy": "2021-02-01T20:51:35.762100Z",
     "iopub.status.idle": "2021-02-01T20:51:35.766524Z",
     "shell.execute_reply": "2021-02-01T20:51:35.765875Z"
    },
    "papermill": {
     "duration": 0.067239,
     "end_time": "2021-02-01T20:51:35.766846",
     "exception": false,
     "start_time": "2021-02-01T20:51:35.699607",
     "status": "completed"
    },
    "tags": []
   },
   "outputs": [],
   "source": [
    "# from sklearn import metrics\n",
    "\n",
    "# # Model Accuracy: how often is the classifier correct?\n",
    "# print(\"Accuracy:\",metrics.accuracy_score(df_testY, y_pred)*100)"
   ]
  },
  {
   "cell_type": "code",
   "execution_count": null,
   "metadata": {
    "papermill": {
     "duration": 0.052967,
     "end_time": "2021-02-01T20:51:35.874250",
     "exception": false,
     "start_time": "2021-02-01T20:51:35.821283",
     "status": "completed"
    },
    "tags": []
   },
   "outputs": [],
   "source": []
  }
 ],
 "metadata": {
  "kernelspec": {
   "display_name": "Python 3",
   "language": "python",
   "name": "python3"
  },
  "language_info": {
   "codemirror_mode": {
    "name": "ipython",
    "version": 3
   },
   "file_extension": ".py",
   "mimetype": "text/x-python",
   "name": "python",
   "nbconvert_exporter": "python",
   "pygments_lexer": "ipython3",
   "version": "3.7.9"
  },
  "papermill": {
   "default_parameters": {},
   "duration": 21.612964,
   "end_time": "2021-02-01T20:51:36.640542",
   "environment_variables": {},
   "exception": null,
   "input_path": "__notebook__.ipynb",
   "output_path": "__notebook__.ipynb",
   "parameters": {},
   "start_time": "2021-02-01T20:51:15.027578",
   "version": "2.2.2"
  }
 },
 "nbformat": 4,
 "nbformat_minor": 4
}
